{
 "cells": [
  {
   "cell_type": "markdown",
   "metadata": {},
   "source": [
    "# 50 NumPy Methods"
   ]
  },
  {
   "cell_type": "code",
   "execution_count": null,
   "metadata": {},
   "outputs": [],
   "source": [
    "# 1 (Create arry by using array function by Passing a list)"
   ]
  },
  {
   "cell_type": "code",
   "execution_count": 24,
   "metadata": {},
   "outputs": [
    {
     "name": "stdout",
     "output_type": "stream",
     "text": [
      "[[20 25 30 50]]\n",
      "\n",
      " [[30 40 50 60]\n",
      " [80 10 20 55]]\n",
      "\n",
      " [[[30 40 50 60]\n",
      "  [80 10 20 55]]\n",
      "\n",
      " [[30 40 50 60]\n",
      "  [80 10 20 55]]]\n"
     ]
    }
   ],
   "source": [
    "import numpy as np\n",
    "list = [[20,25,30,50]] #1D\n",
    "arry1 = np.array(list)\n",
    "print(arry1)\n",
    "l = [[30,40,50,60],[80,10,20,55]] #2D\n",
    "arry2 = np.array(l)\n",
    "print(f\"\\n {arry2}\")\n",
    "li = [[[30,40,50,60],[80,10,20,55]],[[30,40,50,60],[80,10,20,55]]] #3D\n",
    "arry3 = np.array(li)\n",
    "print(f\"\\n {arry3}\")"
   ]
  },
  {
   "cell_type": "code",
   "execution_count": 22,
   "metadata": {},
   "outputs": [],
   "source": [
    "# 2 (To Check its Dimensions use ndim)"
   ]
  },
  {
   "cell_type": "code",
   "execution_count": 25,
   "metadata": {},
   "outputs": [
    {
     "name": "stdout",
     "output_type": "stream",
     "text": [
      "2\n",
      "2\n",
      "3\n"
     ]
    }
   ],
   "source": [
    "print(arry1.ndim)\n",
    "print(arry2.ndim)\n",
    "print(arry3.ndim)"
   ]
  },
  {
   "cell_type": "code",
   "execution_count": null,
   "metadata": {},
   "outputs": [],
   "source": [
    "# 3 (To Check its Data-type use dtype)"
   ]
  },
  {
   "cell_type": "code",
   "execution_count": 35,
   "metadata": {},
   "outputs": [
    {
     "name": "stdout",
     "output_type": "stream",
     "text": [
      "int32\n",
      "float64\n",
      "<U11\n",
      "int32\n",
      "<U11\n"
     ]
    }
   ],
   "source": [
    "arry4 = np.array([1,2,4,\"5\"])\n",
    "arry5 = np.array([1,2,3,4.0])\n",
    "arry6 = np.array([1,2,3,True])\n",
    "arry7 = np.array([1,2,3,True,\"6\",9.0])\n",
    "print(arry1.dtype)\n",
    "print(arry5.dtype)\n",
    "print(arry4.dtype)\n",
    "print(arry6.dtype)\n",
    "print(arry7.dtype)\n",
    "#arry7\n",
    "#arry6\n",
    "#arry5\n",
    "#arry4"
   ]
  },
  {
   "cell_type": "code",
   "execution_count": null,
   "metadata": {},
   "outputs": [],
   "source": [
    "# 4 (To Check its Shape use shape) (Rows,Columns)"
   ]
  },
  {
   "cell_type": "code",
   "execution_count": 36,
   "metadata": {},
   "outputs": [
    {
     "name": "stdout",
     "output_type": "stream",
     "text": [
      "(1, 4)\n",
      "(2, 4)\n",
      "(2, 2, 4)\n"
     ]
    }
   ],
   "source": [
    "print(arry1.shape)\n",
    "print(arry2.shape)\n",
    "print(arry3.shape)"
   ]
  },
  {
   "cell_type": "code",
   "execution_count": null,
   "metadata": {},
   "outputs": [],
   "source": [
    "#(create arrys without passing any list by using Functions)\n",
    "#zeros #ones #eye #diag #randint #randn #rand"
   ]
  },
  {
   "cell_type": "code",
   "execution_count": 43,
   "metadata": {},
   "outputs": [
    {
     "name": "stdout",
     "output_type": "stream",
     "text": [
      "[0. 0. 0. 0.]\n",
      "\n",
      " [[0. 0. 0. 0.]\n",
      " [0. 0. 0. 0.]\n",
      " [0. 0. 0. 0.]]\n",
      "\n",
      " [[[0. 0. 0. 0. 0.]\n",
      "  [0. 0. 0. 0. 0.]\n",
      "  [0. 0. 0. 0. 0.]\n",
      "  [0. 0. 0. 0. 0.]\n",
      "  [0. 0. 0. 0. 0.]]\n",
      "\n",
      " [[0. 0. 0. 0. 0.]\n",
      "  [0. 0. 0. 0. 0.]\n",
      "  [0. 0. 0. 0. 0.]\n",
      "  [0. 0. 0. 0. 0.]\n",
      "  [0. 0. 0. 0. 0.]]]\n"
     ]
    }
   ],
   "source": [
    "# 5 (zeros)\n",
    "\n",
    "zeros1 = np.zeros(4) #for 1D\n",
    "print(zeros1)\n",
    "zeros2 = np.zeros((3,4)) #2D\n",
    "print(f\"\\n {zeros2}\")\n",
    "zeros3 = np.zeros((2,5,5))\n",
    "print(f\"\\n {zeros3}\")"
   ]
  },
  {
   "cell_type": "code",
   "execution_count": 45,
   "metadata": {},
   "outputs": [
    {
     "name": "stdout",
     "output_type": "stream",
     "text": [
      "[1. 1. 1. 1.]\n",
      "\n",
      " [[1. 1. 1.]\n",
      " [1. 1. 1.]\n",
      " [1. 1. 1.]]\n",
      "\n",
      " [[[1. 1. 1. 1. 1.]\n",
      "  [1. 1. 1. 1. 1.]\n",
      "  [1. 1. 1. 1. 1.]]\n",
      "\n",
      " [[1. 1. 1. 1. 1.]\n",
      "  [1. 1. 1. 1. 1.]\n",
      "  [1. 1. 1. 1. 1.]]]\n"
     ]
    }
   ],
   "source": [
    "# 6 (Ones)\n",
    "\n",
    "ones1 = np.ones(4) #for 1D\n",
    "print(ones1)\n",
    "ones2 = np.ones((3,3)) #2D\n",
    "print(f\"\\n {ones2}\")\n",
    "ones3 = np.ones((2,3,5))\n",
    "print(f\"\\n {ones3}\")"
   ]
  },
  {
   "cell_type": "code",
   "execution_count": 47,
   "metadata": {},
   "outputs": [
    {
     "name": "stdout",
     "output_type": "stream",
     "text": [
      "[[1. 0. 0. 0. 0.]\n",
      " [0. 1. 0. 0. 0.]\n",
      " [0. 0. 1. 0. 0.]\n",
      " [0. 0. 0. 1. 0.]\n",
      " [0. 0. 0. 0. 1.]]\n"
     ]
    }
   ],
   "source": [
    "# 7 (eye)\n",
    "\n",
    "eyes = np.eye(5)\n",
    "print(eyes)"
   ]
  },
  {
   "cell_type": "code",
   "execution_count": 50,
   "metadata": {},
   "outputs": [
    {
     "name": "stdout",
     "output_type": "stream",
     "text": [
      "[[ 6  0  0  0  0]\n",
      " [ 0  7  0  0  0]\n",
      " [ 0  0  8  0  0]\n",
      " [ 0  0  0  9  0]\n",
      " [ 0  0  0  0 10]]\n"
     ]
    }
   ],
   "source": [
    "# 8 (diag)\n",
    "\n",
    "diags = np.diag([6,7,8,9,10])\n",
    "print(diags)"
   ]
  },
  {
   "cell_type": "code",
   "execution_count": 56,
   "metadata": {},
   "outputs": [
    {
     "name": "stdout",
     "output_type": "stream",
     "text": [
      "[ 9 17 18  8 13  7 13 15 17 14 19 10  9 10 19]\n"
     ]
    }
   ],
   "source": [
    "# 9 (randint)\n",
    "\n",
    "randints = np.random.randint(5,20,15)\n",
    "print(randints)"
   ]
  },
  {
   "cell_type": "code",
   "execution_count": 79,
   "metadata": {},
   "outputs": [
    {
     "name": "stdout",
     "output_type": "stream",
     "text": [
      "[-0.03818415  0.67926173  1.92356141 -1.9052362  -0.95334316]\n"
     ]
    }
   ],
   "source": [
    "# 10 (randn)\n",
    "\n",
    "randns = np.random.randn(5)\n",
    "print(randns)"
   ]
  },
  {
   "cell_type": "code",
   "execution_count": 85,
   "metadata": {},
   "outputs": [
    {
     "name": "stdout",
     "output_type": "stream",
     "text": [
      "[0.18430659 0.28883678 0.04902933 0.18690669 0.50008958 0.69869201\n",
      " 0.55020561]\n"
     ]
    }
   ],
   "source": [
    "# 11 (rand)\n",
    "\n",
    "rands = np.random.rand(7)\n",
    "print(rands)"
   ]
  },
  {
   "cell_type": "code",
   "execution_count": 86,
   "metadata": {},
   "outputs": [
    {
     "name": "stdout",
     "output_type": "stream",
     "text": [
      "13.2\n"
     ]
    }
   ],
   "source": [
    "# 12 ( To Get mean of a matrix use mean)\n",
    "\n",
    "means = np.mean(randints)\n",
    "print(means)"
   ]
  },
  {
   "cell_type": "code",
   "execution_count": 92,
   "metadata": {},
   "outputs": [
    {
     "name": "stdout",
     "output_type": "stream",
     "text": [
      "[31  1 51  3  8 24 30 27 22 40  5 46 42 13 29 26 10 23 29 16 12  2 45  7\n",
      " 20 45 25  1 25  9  2 17  1 33 38  1 45 42 35  2 17  8 38 37 32 54 54 40\n",
      " 28 18]\n",
      "1\n",
      "\n",
      " [[31  1 51  3  8 24 30 27 22 40  5 46 42 13 29 26 10 23 29 16 12  2 45  7\n",
      "  20]\n",
      " [45 25  1 25  9  2 17  1 33 38  1 45 42 35  2 17  8 38 37 32 54 54 40 28\n",
      "  18]]\n",
      "2\n",
      "\n",
      " [[[31  1 51  3  8]\n",
      "  [24 30 27 22 40]\n",
      "  [ 5 46 42 13 29]\n",
      "  [26 10 23 29 16]\n",
      "  [12  2 45  7 20]]\n",
      "\n",
      " [[45 25  1 25  9]\n",
      "  [ 2 17  1 33 38]\n",
      "  [ 1 45 42 35  2]\n",
      "  [17  8 38 37 32]\n",
      "  [54 54 40 28 18]]]\n",
      "3\n"
     ]
    }
   ],
   "source": [
    "# 13 (For Reshaping of a matrix 1D to 2D,3D)\n",
    "\n",
    "matrixx = np.random.randint(1,55,50) #1D\n",
    "print(matrixx)\n",
    "print(matrixx.ndim)\n",
    "print(f\"\\n {matrixx.reshape(2,25)}\") #2D\n",
    "print(matrixx.reshape(2,25).ndim)\n",
    "print(f\"\\n {matrixx.reshape(2,5,5)}\") #3D\n",
    "print(matrixx.reshape(2,5,5).ndim)"
   ]
  },
  {
   "cell_type": "code",
   "execution_count": 95,
   "metadata": {},
   "outputs": [
    {
     "name": "stdout",
     "output_type": "stream",
     "text": [
      "[ 8  4 14  7 25 12 17 20 17 11 22 24 12 17 21 25  4 15 14 16  7 18 23 18\n",
      " 19]\n",
      "\n",
      " [[ 8  4 14  7 25]\n",
      " [12 17 20 17 11]\n",
      " [22 24 12 17 21]\n",
      " [25  4 15 14 16]\n",
      " [ 7 18 23 18 19]]\n"
     ]
    }
   ],
   "source": [
    "# 14 (Using -ve number in Reshaping)\n",
    "\n",
    "matrixxx = np.random.randint(1,26,25)\n",
    "print(matrixxx)\n",
    "print(f\"\\n {matrixxx.reshape(5,-1)}\") #Auto get Valuse for reshaping"
   ]
  },
  {
   "cell_type": "code",
   "execution_count": 104,
   "metadata": {},
   "outputs": [
    {
     "name": "stdout",
     "output_type": "stream",
     "text": [
      "[28 44 90 43 29 80 61 46 38 93 40 82 12 78 70 99 79 85 35 67  5  9 86 63\n",
      " 17 42 11 73 45 36 49 52 54 23 36 57 23 75 86 82  7 45 45 50 44 96 12 22\n",
      " 91 90]\n"
     ]
    }
   ],
   "source": [
    "# 15 (Seed function(use to get fixed random numbers))\n",
    "\n",
    "np.random.seed(456)\n",
    "seeed = np.random.randint(1,100,50)\n",
    "print(seeed)"
   ]
  },
  {
   "cell_type": "code",
   "execution_count": 125,
   "metadata": {},
   "outputs": [
    {
     "name": "stdout",
     "output_type": "stream",
     "text": [
      "[28 26 20 26 16 12 22 13 12 24 15 23 20 19 21 12]\n"
     ]
    },
    {
     "data": {
      "text/plain": [
       "16"
      ]
     },
     "execution_count": 125,
     "metadata": {},
     "output_type": "execute_result"
    }
   ],
   "source": [
    "# 16 (size use to get the size of an array )\n",
    "\n",
    "np.random.seed(13)\n",
    "sizee = np.random.randint(10,30,16)\n",
    "print(sizee)\n",
    "sizee.size"
   ]
  },
  {
   "cell_type": "code",
   "execution_count": 133,
   "metadata": {},
   "outputs": [
    {
     "name": "stdout",
     "output_type": "stream",
     "text": [
      "[ 4 18 14  4  1  4 16 11  4  8]\n",
      "16\n"
     ]
    }
   ],
   "source": [
    "# 17 (Indexing)\n",
    "np.random.seed(44)\n",
    "ind = np.random.randint(1,20,10)\n",
    "print(ind)\n",
    "print(ind[6])"
   ]
  },
  {
   "cell_type": "code",
   "execution_count": 134,
   "metadata": {},
   "outputs": [
    {
     "name": "stdout",
     "output_type": "stream",
     "text": [
      "[14  4  1  4 16 11]\n"
     ]
    }
   ],
   "source": [
    "# 18 (Slicing (using previous array))\n",
    "print(ind[2:8])"
   ]
  },
  {
   "cell_type": "code",
   "execution_count": 138,
   "metadata": {},
   "outputs": [
    {
     "name": "stdout",
     "output_type": "stream",
     "text": [
      "[[ 4 10  8]\n",
      " [ 6  5 19]\n",
      " [13  5  5]]\n",
      "19\n"
     ]
    }
   ],
   "source": [
    "# 19 (using 3D array for Indexing)\n",
    "\n",
    "np.random.seed(97)\n",
    "inde = np.random.randint(1,20,9).reshape(3,3)\n",
    "print(inde)\n",
    "print(inde[1][2])"
   ]
  },
  {
   "cell_type": "code",
   "execution_count": 139,
   "metadata": {},
   "outputs": [
    {
     "name": "stdout",
     "output_type": "stream",
     "text": [
      "19\n"
     ]
    }
   ],
   "source": [
    "# 21 (Using singel Bracket)\n",
    "\n",
    "print(inde[1,2])"
   ]
  },
  {
   "cell_type": "code",
   "execution_count": 147,
   "metadata": {},
   "outputs": [
    {
     "name": "stdout",
     "output_type": "stream",
     "text": [
      "[[ 5 19]\n",
      " [ 5  5]]\n",
      "\n",
      " [[5]\n",
      " [5]]\n"
     ]
    }
   ],
   "source": [
    "# 22 (Slicing)\n",
    "\n",
    "print(inde[1:,1:])\n",
    "print(f\"\\n {inde[1:,1:2]}\")"
   ]
  },
  {
   "cell_type": "code",
   "execution_count": 155,
   "metadata": {},
   "outputs": [
    {
     "name": "stdout",
     "output_type": "stream",
     "text": [
      "[ 2  4  7  9 12 45 67 89]\n",
      "[ 7  9 12 45]\n",
      "[0 0 0 0]\n",
      "[ 2  4  0  0  0  0 67 89]\n"
     ]
    }
   ],
   "source": [
    "# 23 (View Creation)\n",
    "\n",
    "arrr = np.array([2,4,7,9,12,45,67,89])\n",
    "print(arrr)\n",
    "sliced_arry = arrr[2:6]\n",
    "print(sliced_arry)\n",
    "sliced_arry[:] = 0\n",
    "print(sliced_arry)\n",
    "print(arrr)\n",
    "\n",
    "# It make a reference with the array and change values also in their reference"
   ]
  },
  {
   "cell_type": "code",
   "execution_count": 156,
   "metadata": {},
   "outputs": [
    {
     "name": "stdout",
     "output_type": "stream",
     "text": [
      "[24 11 34 56 13  3  2  7]\n",
      "[34 56 13  3]\n",
      "[0 0 0 0]\n",
      "[24 11 34 56 13  3  2  7]\n"
     ]
    }
   ],
   "source": [
    "# 24 (Solution of View is copy function)\n",
    "\n",
    "arrr1 = np.array([24,11,34,56,13,3,2,7])\n",
    "print(arrr1)\n",
    "sliced_arry = arrr1[2:6].copy()\n",
    "print(sliced_arry)\n",
    "sliced_arry[:] = 0\n",
    "print(sliced_arry)\n",
    "print(arrr1)"
   ]
  },
  {
   "cell_type": "code",
   "execution_count": 192,
   "metadata": {},
   "outputs": [
    {
     "data": {
      "text/plain": [
       "array([[1., 1., 1., 1.],\n",
       "       [1., 1., 1., 1.],\n",
       "       [1., 1., 1., 1.]])"
      ]
     },
     "execution_count": 192,
     "metadata": {},
     "output_type": "execute_result"
    }
   ],
   "source": [
    "# 25 (Empty function to create a array with its own random number according to given rows and columns)\n",
    "emp = np.empty((3,4))\n",
    "emp"
   ]
  },
  {
   "cell_type": "code",
   "execution_count": 6,
   "metadata": {},
   "outputs": [
    {
     "data": {
      "text/plain": [
       "array([7, 3])"
      ]
     },
     "execution_count": 6,
     "metadata": {},
     "output_type": "execute_result"
    }
   ],
   "source": [
    "# 26 (To get array number use can use index number)\n",
    "\n",
    "import numpy as np\n",
    "arr1 = np.array([2,3,1,5,6,9,8,7])\n",
    "arr1[[-1,1]]"
   ]
  },
  {
   "cell_type": "code",
   "execution_count": 17,
   "metadata": {},
   "outputs": [
    {
     "name": "stdout",
     "output_type": "stream",
     "text": [
      "[1 2 3 4 5 6 7 8 9]\n",
      "[False False False False False  True  True  True  True]\n",
      "[6 7 8 9]\n"
     ]
    }
   ],
   "source": [
    "# 26 (Conditional Selection)\n",
    "\n",
    "arr1 = np.arange(1,10)\n",
    "print(arr1)\n",
    "print(arr1>5)\n",
    "print(arr1[arr1>5])"
   ]
  },
  {
   "cell_type": "code",
   "execution_count": 18,
   "metadata": {},
   "outputs": [
    {
     "name": "stdout",
     "output_type": "stream",
     "text": [
      "[1 2 3 4 5 6 7 8 9]\n",
      "[False  True False  True False  True False  True False]\n",
      "[2 4 6 8]\n"
     ]
    }
   ],
   "source": [
    "arr1 = np.arange(1,10)\n",
    "print(arr1)\n",
    "print(arr1%2==0)\n",
    "print(arr1[arr1%2==0])"
   ]
  },
  {
   "cell_type": "code",
   "execution_count": 20,
   "metadata": {},
   "outputs": [
    {
     "name": "stdout",
     "output_type": "stream",
     "text": [
      "[[2 1]\n",
      " [4 5]]\n",
      "[[ 4  2]\n",
      " [ 8 10]]\n",
      "[[  8   1]\n",
      " [ 64 125]]\n",
      "[[ 7  6]\n",
      " [ 9 10]]\n"
     ]
    }
   ],
   "source": [
    "# 27 (Operation on array)\n",
    "\n",
    "arr = np.array([2,1,4,5]).reshape(2,2)\n",
    "print(arr)\n",
    "print(arr*2) #Multiply\n",
    "print(arr**3) #Power\n",
    "print(arr+5) #Add"
   ]
  },
  {
   "cell_type": "code",
   "execution_count": 23,
   "metadata": {},
   "outputs": [
    {
     "name": "stdout",
     "output_type": "stream",
     "text": [
      "[ 6  8 10 12]\n",
      "[ 9 20 33 48]\n",
      "[    2    66  2190 65540]\n"
     ]
    }
   ],
   "source": [
    "# 28 (Operation on Two array)\n",
    "\n",
    "arr1 = np.array([5,6,7,8])\n",
    "arr2 = np.array([1,2,3,4])\n",
    "arr3 = np.array([9,10,11,12])\n",
    "print(arr1+arr2)\n",
    "print(arr2*arr3)\n",
    "print(arr2**arr1+arr2)"
   ]
  },
  {
   "cell_type": "code",
   "execution_count": 24,
   "metadata": {},
   "outputs": [
    {
     "data": {
      "text/plain": [
       "array([[488, 632, 632],\n",
       "       [353, 419, 413],\n",
       "       [335, 377, 361]])"
      ]
     },
     "execution_count": 24,
     "metadata": {},
     "output_type": "execute_result"
    }
   ],
   "source": [
    "# 29 (For linear algebra multiply)\n",
    "\n",
    "matrix1 = np.random.randint(1,15,9).reshape(3,3)\n",
    "matrix2 = np.random.randint(15,30,9).reshape(3,3)\n",
    "\n",
    "matrix1.dot(matrix2)"
   ]
  },
  {
   "cell_type": "code",
   "execution_count": 35,
   "metadata": {},
   "outputs": [
    {
     "data": {
      "text/plain": [
       "1"
      ]
     },
     "execution_count": 35,
     "metadata": {},
     "output_type": "execute_result"
    }
   ],
   "source": [
    "# 30 (min of the array)\n",
    "\n",
    "arr1 = np.array([4,80,90,70,1])\n",
    "arr1.min()"
   ]
  },
  {
   "cell_type": "code",
   "execution_count": 36,
   "metadata": {},
   "outputs": [
    {
     "data": {
      "text/plain": [
       "90"
      ]
     },
     "execution_count": 36,
     "metadata": {},
     "output_type": "execute_result"
    }
   ],
   "source": [
    "# 31 (max)\n",
    "\n",
    "arr1.max()"
   ]
  },
  {
   "cell_type": "code",
   "execution_count": 37,
   "metadata": {},
   "outputs": [
    {
     "data": {
      "text/plain": [
       "4"
      ]
     },
     "execution_count": 37,
     "metadata": {},
     "output_type": "execute_result"
    }
   ],
   "source": [
    "# 32 (argument min to get index of value)\n",
    "arr1.argmin()"
   ]
  },
  {
   "cell_type": "code",
   "execution_count": 38,
   "metadata": {},
   "outputs": [
    {
     "data": {
      "text/plain": [
       "2"
      ]
     },
     "execution_count": 38,
     "metadata": {},
     "output_type": "execute_result"
    }
   ],
   "source": [
    "#33 (arg max)\n",
    "\n",
    "arr1.argmax()"
   ]
  },
  {
   "cell_type": "code",
   "execution_count": 39,
   "metadata": {},
   "outputs": [
    {
     "data": {
      "text/plain": [
       "array([2.        , 8.94427191, 9.48683298, 8.36660027, 1.        ])"
      ]
     },
     "execution_count": 39,
     "metadata": {},
     "output_type": "execute_result"
    }
   ],
   "source": [
    "#34 (square root of each element)\n",
    "\n",
    "np.sqrt(arr1)"
   ]
  },
  {
   "cell_type": "code",
   "execution_count": 41,
   "metadata": {},
   "outputs": [
    {
     "data": {
      "text/plain": [
       "array([5.45981500e+01, 5.54062238e+34, 1.22040329e+39, 2.51543867e+30,\n",
       "       2.71828183e+00])"
      ]
     },
     "execution_count": 41,
     "metadata": {},
     "output_type": "execute_result"
    }
   ],
   "source": [
    "#35 (Exponent)\n",
    "\n",
    "np.exp(arr1)"
   ]
  },
  {
   "cell_type": "code",
   "execution_count": 43,
   "metadata": {},
   "outputs": [
    {
     "data": {
      "text/plain": [
       "array([-0.7568025 , -0.99388865,  0.89399666,  0.77389068,  0.84147098])"
      ]
     },
     "execution_count": 43,
     "metadata": {},
     "output_type": "execute_result"
    }
   ],
   "source": [
    "#36 (sin)\n",
    "\n",
    "np.sin(arr1)"
   ]
  },
  {
   "cell_type": "code",
   "execution_count": 44,
   "metadata": {},
   "outputs": [
    {
     "data": {
      "text/plain": [
       "array([-0.65364362, -0.11038724, -0.44807362,  0.6333192 ,  0.54030231])"
      ]
     },
     "execution_count": 44,
     "metadata": {},
     "output_type": "execute_result"
    }
   ],
   "source": [
    "#38 (cos)\n",
    "\n",
    "np.cos(arr1)"
   ]
  },
  {
   "cell_type": "code",
   "execution_count": 47,
   "metadata": {},
   "outputs": [
    {
     "data": {
      "text/plain": [
       "array([ 1. ,  4.5,  8. , 11.5, 15. ])"
      ]
     },
     "execution_count": 47,
     "metadata": {},
     "output_type": "execute_result"
    }
   ],
   "source": [
    "#39 (linspace use to create numbers with decimal by given range)\n",
    "\n",
    "np.linspace(1,15,5)"
   ]
  },
  {
   "cell_type": "code",
   "execution_count": 52,
   "metadata": {},
   "outputs": [
    {
     "data": {
      "text/plain": [
       "array([ True,  True,  True,  True, False,  True])"
      ]
     },
     "execution_count": 52,
     "metadata": {},
     "output_type": "execute_result"
    }
   ],
   "source": [
    "#40 (To Conver into Boolean)\n",
    "\n",
    "arr = np.array([1,2,3,4,0,65],dtype=\"bool\")\n",
    "arr"
   ]
  },
  {
   "cell_type": "code",
   "execution_count": 54,
   "metadata": {},
   "outputs": [
    {
     "name": "stdout",
     "output_type": "stream",
     "text": [
      "[[ 9  1  4]\n",
      " [10  9  5]\n",
      " [ 4  5  2]]\n",
      "49\n"
     ]
    },
    {
     "data": {
      "text/plain": [
       "array([14, 24, 11])"
      ]
     },
     "execution_count": 54,
     "metadata": {},
     "output_type": "execute_result"
    }
   ],
   "source": [
    "#41 (Numpy Axis) For Axis rows=1,columns=0\n",
    "\n",
    "np.random.seed(345)\n",
    "arr1 = np.random.randint(1,11,9).reshape(3,3)\n",
    "print(arr1)\n",
    "print(np.sum(arr1))\n",
    "np.sum(arr1,axis=1)"
   ]
  },
  {
   "cell_type": "code",
   "execution_count": 63,
   "metadata": {},
   "outputs": [
    {
     "name": "stdout",
     "output_type": "stream",
     "text": [
      "[[ 9  1  4]\n",
      " [19 10  9]\n",
      " [23 15 11]]\n"
     ]
    },
    {
     "data": {
      "text/plain": [
       "array([ 9, 10, 14, 24, 33, 38, 42, 47, 49], dtype=int32)"
      ]
     },
     "execution_count": 63,
     "metadata": {},
     "output_type": "execute_result"
    }
   ],
   "source": [
    "#42 (cumulative sum)\n",
    "\n",
    "print(np.cumsum(arr1,axis=0))\n",
    "np.cumsum(arr1)"
   ]
  },
  {
   "cell_type": "code",
   "execution_count": 78,
   "metadata": {},
   "outputs": [
    {
     "name": "stdout",
     "output_type": "stream",
     "text": [
      "[14  3 13  3  7  2  4 11 12 10  7  2  1  2 10]\n"
     ]
    },
    {
     "data": {
      "text/plain": [
       "array([ 4,  2, 11, 12, 13,  2,  3,  7,  1,  2,  7,  3, 10, 10, 14])"
      ]
     },
     "execution_count": 78,
     "metadata": {},
     "output_type": "execute_result"
    }
   ],
   "source": [
    "#43 (Shuffle use for randering an array values)\n",
    "\n",
    "np.random.seed(123)\n",
    "arr1 = np.random.randint(1,15,15)\n",
    "print(arr1)\n",
    "np.random.shuffle(arr1)\n",
    "arr1"
   ]
  },
  {
   "cell_type": "code",
   "execution_count": 77,
   "metadata": {},
   "outputs": [
    {
     "name": "stdout",
     "output_type": "stream",
     "text": [
      "[ 0  1  2  3  4  5  6  7  8  9 10 11 12 13 14]\n"
     ]
    },
    {
     "data": {
      "text/plain": [
       "array([ 6,  5,  7,  8,  2, 11,  1, 10, 12, 13,  4,  3,  9, 14,  0])"
      ]
     },
     "execution_count": 77,
     "metadata": {},
     "output_type": "execute_result"
    }
   ],
   "source": [
    "arr1 = np.arange(15)\n",
    "print(arr1)\n",
    "np.random.shuffle(arr1)\n",
    "arr1"
   ]
  },
  {
   "cell_type": "code",
   "execution_count": 81,
   "metadata": {},
   "outputs": [
    {
     "name": "stdout",
     "output_type": "stream",
     "text": [
      "[[14  3  3]\n",
      " [ 7 18 11]\n",
      " [ 2  1 18]]\n",
      "[[35 29 20]\n",
      " [34 20 35]\n",
      " [39 34 24]]\n"
     ]
    },
    {
     "data": {
      "text/plain": [
       "array([[14,  3,  3, 35, 29, 20],\n",
       "       [ 7, 18, 11, 34, 20, 35],\n",
       "       [ 2,  1, 18, 39, 34, 24]])"
      ]
     },
     "execution_count": 81,
     "metadata": {},
     "output_type": "execute_result"
    }
   ],
   "source": [
    "#44 (Horizantal stack (place the array on right side of first))\n",
    "np.random.seed(123)\n",
    "arr1 = np.random.randint(1,20,9).reshape(3,3)\n",
    "arr2 = np.random.randint(20,40,9).reshape(3,3)\n",
    "print(arr1)\n",
    "print(arr2)\n",
    "np.hstack((arr1,arr2))"
   ]
  },
  {
   "cell_type": "code",
   "execution_count": 82,
   "metadata": {
    "scrolled": true
   },
   "outputs": [
    {
     "name": "stdout",
     "output_type": "stream",
     "text": [
      "[[14  3  3]\n",
      " [ 7 18 11]\n",
      " [ 2  1 18]]\n",
      "[[35 29 20]\n",
      " [34 20 35]\n",
      " [39 34 24]]\n"
     ]
    },
    {
     "data": {
      "text/plain": [
       "array([[14,  3,  3],\n",
       "       [ 7, 18, 11],\n",
       "       [ 2,  1, 18],\n",
       "       [35, 29, 20],\n",
       "       [34, 20, 35],\n",
       "       [39, 34, 24]])"
      ]
     },
     "execution_count": 82,
     "metadata": {},
     "output_type": "execute_result"
    }
   ],
   "source": [
    "#45 (Vertical stack (place the array in the bottom of first))\n",
    "\n",
    "np.random.seed(123)\n",
    "matrix1 = np.random.randint(1,20,9).reshape(3,3)\n",
    "matrix2 = np.random.randint(20,40,9).reshape(3,3)\n",
    "print(matrix1)\n",
    "print(matrix2)\n",
    "np.vstack((matrix1,matrix2))"
   ]
  },
  {
   "cell_type": "code",
   "execution_count": 83,
   "metadata": {},
   "outputs": [
    {
     "name": "stdout",
     "output_type": "stream",
     "text": [
      "[1 2 3 4 5 6]\n",
      "[[1 2 3]\n",
      " [4 5 6]]\n"
     ]
    }
   ],
   "source": [
    "arr1 = np.array([1,2,3])\n",
    "arr2 = np.array([4,5,6])\n",
    "print(np.hstack((arr1,arr2)))\n",
    "print(np.vstack((arr1,arr2)))"
   ]
  },
  {
   "cell_type": "code",
   "execution_count": 11,
   "metadata": {},
   "outputs": [
    {
     "data": {
      "text/plain": [
       "array([2500, 2500,  100, 2000])"
      ]
     },
     "execution_count": 11,
     "metadata": {},
     "output_type": "execute_result"
    }
   ],
   "source": [
    "# 46 (Np.where use change value)\n",
    "\n",
    "import numpy as np\n",
    "salary = np.array([0,-1,100,2000])\n",
    "np.where(salary<=0,2500,salary)"
   ]
  },
  {
   "cell_type": "code",
   "execution_count": 5,
   "metadata": {},
   "outputs": [
    {
     "data": {
      "text/plain": [
       "array(['Not Ok', 'Not Ok', 'Ok', 'Ok'], dtype='<U6')"
      ]
     },
     "execution_count": 5,
     "metadata": {},
     "output_type": "execute_result"
    }
   ],
   "source": [
    "np.where(salary<=0,\"Not Ok\",\"Ok\")"
   ]
  },
  {
   "cell_type": "code",
   "execution_count": 7,
   "metadata": {},
   "outputs": [
    {
     "name": "stdout",
     "output_type": "stream",
     "text": [
      "[[32 10 33  4 20 17 10 10  1  9 14  1 31 34 19]\n",
      " [ 9 11 21 25 20  7 28 24 28  5 24 25 23 20 11]]\n"
     ]
    },
    {
     "data": {
      "text/plain": [
       "array([32, 10, 33,  4, 20, 17, 10, 10,  1,  9, 14,  1, 31, 34, 19,  9, 11,\n",
       "       21, 25, 20,  7, 28, 24, 28,  5, 24, 25, 23, 20, 11])"
      ]
     },
     "execution_count": 7,
     "metadata": {},
     "output_type": "execute_result"
    }
   ],
   "source": [
    "# 47 (Ravel and flatten use to reverse arry dimension into 1D)\n",
    "\n",
    "arry = np.random.randint(1,35,30)\n",
    "print(arry.reshape(2,15))\n",
    "arry.ravel()"
   ]
  },
  {
   "cell_type": "code",
   "execution_count": 8,
   "metadata": {},
   "outputs": [
    {
     "data": {
      "text/plain": [
       "array([32, 10, 33,  4, 20, 17, 10, 10,  1,  9, 14,  1, 31, 34, 19,  9, 11,\n",
       "       21, 25, 20,  7, 28, 24, 28,  5, 24, 25, 23, 20, 11])"
      ]
     },
     "execution_count": 8,
     "metadata": {},
     "output_type": "execute_result"
    }
   ],
   "source": [
    "# 48 (Now flatten)\n",
    "\n",
    "arry.flatten()"
   ]
  },
  {
   "cell_type": "code",
   "execution_count": 9,
   "metadata": {},
   "outputs": [
    {
     "data": {
      "text/plain": [
       "[array([1, 4]), array([5, 6, 7]), array([8, 1, 4])]"
      ]
     },
     "execution_count": 9,
     "metadata": {},
     "output_type": "execute_result"
    }
   ],
   "source": [
    "# 49 (split use to divide array)\n",
    "\n",
    "x = [1,4,5,6,7,8,1,4]\n",
    "d = np.array(x)\n",
    "np.split(d,[2,5])"
   ]
  },
  {
   "cell_type": "code",
   "execution_count": 13,
   "metadata": {},
   "outputs": [
    {
     "data": {
      "text/plain": [
       "[array([[ 1,  4,  5,  6],\n",
       "        [11, 14, 15, 16]]),\n",
       " array([[ 7,  8],\n",
       "        [17, 19]]),\n",
       " array([[ 1,  4],\n",
       "        [11, 14]])]"
      ]
     },
     "execution_count": 13,
     "metadata": {},
     "output_type": "execute_result"
    }
   ],
   "source": [
    "x = [[1,4,5,6,7,8,1,4],[11,14,15,16,17,19,11,14]]\n",
    "d = np.array(x)\n",
    "np.split(d,[4,6],axis=1)"
   ]
  },
  {
   "cell_type": "code",
   "execution_count": 14,
   "metadata": {},
   "outputs": [
    {
     "data": {
      "text/plain": [
       "[array([[1, 4, 5, 6, 7, 8, 1, 4]]), array([[11, 14, 15, 16, 17, 19, 11, 14]])]"
      ]
     },
     "execution_count": 14,
     "metadata": {},
     "output_type": "execute_result"
    }
   ],
   "source": [
    "np.split(d,[1],axis=0)"
   ]
  },
  {
   "cell_type": "code",
   "execution_count": 15,
   "metadata": {},
   "outputs": [
    {
     "data": {
      "text/plain": [
       "array([1, 5, 7, 8, 1, 5, 7, 8])"
      ]
     },
     "execution_count": 15,
     "metadata": {},
     "output_type": "execute_result"
    }
   ],
   "source": [
    "# 50 (Tile use to create another copy of a array)\n",
    "\n",
    "d = np.array([1,5,7,8])\n",
    "np.tile(d,2)"
   ]
  },
  {
   "cell_type": "code",
   "execution_count": 16,
   "metadata": {},
   "outputs": [
    {
     "data": {
      "text/plain": [
       "array([1, 1, 1, 5, 5, 5, 7, 7, 7, 8, 8, 8])"
      ]
     },
     "execution_count": 16,
     "metadata": {},
     "output_type": "execute_result"
    }
   ],
   "source": [
    "# 51 (repeat)\n",
    "\n",
    "np.repeat(d,3)"
   ]
  },
  {
   "cell_type": "code",
   "execution_count": null,
   "metadata": {},
   "outputs": [],
   "source": []
  }
 ],
 "metadata": {
  "kernelspec": {
   "display_name": "Python 3",
   "language": "python",
   "name": "python3"
  },
  "language_info": {
   "codemirror_mode": {
    "name": "ipython",
    "version": 3
   },
   "file_extension": ".py",
   "mimetype": "text/x-python",
   "name": "python",
   "nbconvert_exporter": "python",
   "pygments_lexer": "ipython3",
   "version": "3.7.6"
  }
 },
 "nbformat": 4,
 "nbformat_minor": 4
}
